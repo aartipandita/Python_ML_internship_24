{
 "cells": [
  {
   "cell_type": "code",
   "execution_count": 12,
   "id": "8c565d2b",
   "metadata": {},
   "outputs": [
    {
     "name": "stdout",
     "output_type": "stream",
     "text": [
      "    *\n",
      "   **\n",
      "  ***\n",
      " ****\n",
      "*****\n"
     ]
    }
   ],
   "source": [
    "i=1\n",
    "while i<6:\n",
    "    j=5-i\n",
    "    while j>0:\n",
    "        print(\" \",end=\"\")\n",
    "        j=j-1\n",
    "    for r in range(0,i):\n",
    "        print(\"*\",end=\"\")\n",
    "    print()\n",
    "    i=i+1"
   ]
  },
  {
   "cell_type": "code",
   "execution_count": null,
   "id": "b7e18549",
   "metadata": {},
   "outputs": [],
   "source": [
    "a=int(input(\"Enter the first number : \"))\n",
    "b=int(input(\"Enter the second number : \"))\n",
    "\n",
    "try :\n",
    "    print(a/b)\n",
    "except ZeroDivisionError :\n",
    "    print(\"number cannot be divided by zero\")\n",
    "except ValueError:\n",
    "    print(\"invalid input!please enter the numbers again\")\n",
    "\n"
   ]
  },
  {
   "cell_type": "code",
   "execution_count": null,
   "id": "5b57651a",
   "metadata": {},
   "outputs": [],
   "source": []
  },
  {
   "cell_type": "code",
   "execution_count": null,
   "id": "d9b4de56",
   "metadata": {},
   "outputs": [],
   "source": [
    "rental={\"Rollno\":\"r\",\"Eid\":\"ed\",\"Ename\":\"en\",\"Status\":\"s\",\"ReturnCondition\":\"rc\"}\n",
    "def Rent_item():\n",
    "    r=int(input(\"Enter the roll number : \"))\n",
    "    rental.Rollno=r\n",
    "    a=int(input(\"Enter the Equipment ID  : \"))\n",
    "    Rental.Eid=a\n",
    "    n=input(\"Enter name of Equipment : \")\n",
    "    Ename=n\n",
    "    s=input(\"Enter the status of item before rented : \")\n",
    "    Rental.Status=s\n",
    "def Return_item(status,condition):\n",
    "    rental.Status=status\n",
    "    rental.ReturnCondition=condition"
   ]
  },
  {
   "cell_type": "code",
   "execution_count": null,
   "id": "7d13f7ea",
   "metadata": {},
   "outputs": [],
   "source": []
  },
  {
   "cell_type": "code",
   "execution_count": null,
   "id": "4fea1a69",
   "metadata": {},
   "outputs": [],
   "source": []
  },
  {
   "cell_type": "code",
   "execution_count": null,
   "id": "69d52fbf",
   "metadata": {},
   "outputs": [],
   "source": [
    "_"
   ]
  }
 ],
 "metadata": {
  "kernelspec": {
   "display_name": "Python 3 (ipykernel)",
   "language": "python",
   "name": "python3"
  },
  "language_info": {
   "codemirror_mode": {
    "name": "ipython",
    "version": 3
   },
   "file_extension": ".py",
   "mimetype": "text/x-python",
   "name": "python",
   "nbconvert_exporter": "python",
   "pygments_lexer": "ipython3",
   "version": "3.9.12"
  }
 },
 "nbformat": 4,
 "nbformat_minor": 5
}
